{
 "cells": [
  {
   "cell_type": "markdown",
   "id": "cf7a2b39",
   "metadata": {},
   "source": [
    "This is a Natural Language Proccessing project for a swahili Spelling correction (Auto correction) application."
   ]
  },
  {
   "cell_type": "markdown",
   "id": "3b353309",
   "metadata": {},
   "source": [
    "Step 1: Data collection\n",
    "The following is a python script that uses python code to load data from swahili_news dataset using the datasets python library. It then retrieves page content data from the swahili wikipedia specifically from the pages; Kenya, Tanzania and Uganda. It then combines the swahili_news dataset and the wikipedia content into a single dataframe in csv format."
   ]
  },
  {
   "cell_type": "code",
   "execution_count": null,
   "id": "0c1aeb42",
   "metadata": {},
   "outputs": [],
   "source": [
    "import pandas as pd\n",
    "from datasets import load_dataset\n",
    "import wikipediaapi\n",
    "\n",
    "# Load Swahili news dataset\n",
    "news_dataset = load_dataset('swahili_news')\n",
    "\n",
    "# Define a function to retrieve Swahili Wikipedia page content\n",
    "def get_wiki_page_content(page_name):\n",
    "    wiki = wikipediaapi.Wikipedia('sw')\n",
    "    page = wiki.page(page_name)\n",
    "    if page.exists():\n",
    "        return page.text\n",
    "    else:\n",
    "        return ''\n",
    "\n",
    "# Create a list of Swahili Wikipedia page names to retrieve content for\n",
    "wiki_pages = ['Kenya', 'Tanzania', 'Uganda']\n",
    "\n",
    "# Retrieve Swahili Wikipedia page content\n",
    "wiki_content = []\n",
    "for page_name in wiki_pages:\n",
    "    content = get_wiki_page_content(page_name)\n",
    "    wiki_content.append(content)\n",
    "\n",
    "# Combine news dataset and Wikipedia content into a single dataframe\n",
    "data = {'text': news_dataset['train']['text'] + wiki_content}\n",
    "df = pd.DataFrame(data)\n",
    "\n",
    "# Save dataframe to CSV file\n",
    "df.to_csv('swahili_data.csv', index=False)\n"
   ]
  },
  {
   "cell_type": "code",
   "execution_count": null,
   "id": "2c869955",
   "metadata": {},
   "outputs": [],
   "source": []
  },
  {
   "cell_type": "code",
   "execution_count": null,
   "id": "81bdf40a",
   "metadata": {},
   "outputs": [],
   "source": []
  }
 ],
 "metadata": {
  "kernelspec": {
   "display_name": "Python 3 (ipykernel)",
   "language": "python",
   "name": "python3"
  },
  "language_info": {
   "codemirror_mode": {
    "name": "ipython",
    "version": 3
   },
   "file_extension": ".py",
   "mimetype": "text/x-python",
   "name": "python",
   "nbconvert_exporter": "python",
   "pygments_lexer": "ipython3",
   "version": "3.9.13"
  }
 },
 "nbformat": 4,
 "nbformat_minor": 5
}
